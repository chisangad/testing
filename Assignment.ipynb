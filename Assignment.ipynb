{
  "nbformat": 4,
  "nbformat_minor": 0,
  "metadata": {
    "colab": {
      "provenance": [],
      "authorship_tag": "ABX9TyPfmv5OkdSS+vizHOqTLGDs",
      "include_colab_link": true
    },
    "kernelspec": {
      "name": "python3",
      "display_name": "Python 3"
    },
    "language_info": {
      "name": "python"
    }
  },
  "cells": [
    {
      "cell_type": "markdown",
      "metadata": {
        "id": "view-in-github",
        "colab_type": "text"
      },
      "source": [
        "<a href=\"https://colab.research.google.com/github/chisangad/testing/blob/master/Assignment.ipynb\" target=\"_parent\"><img src=\"https://colab.research.google.com/assets/colab-badge.svg\" alt=\"Open In Colab\"/></a>"
      ]
    },
    {
      "cell_type": "markdown",
      "source": [
        "# Background"
      ],
      "metadata": {
        "id": "HaYQKB0UHNDm"
      }
    },
    {
      "cell_type": "markdown",
      "source": [
        "In this assignment, you will be using Python to develop an analysis pipeline to analyse the sales transactions for an insurance company. The data set to be used in the assignment has been provided for you on Moodle, the data is based on real-life data from a national insurance company called KAT insurance with operations in the USA. The data set contains more than 65,000 insurance sales records from 2017. All data and names have been anonymised to preserve privacy. You will first have to find and correct errors in the data set.\n",
        "\n",
        "## General learning objectives \n",
        "1.\tClean the data in a data set\n",
        "2.\tAnalyse sales trends\n",
        "3.\tInterpret findings\n",
        "\n",
        "## Data dictionary\n",
        "\n",
        "A data dictionary describing the fields/columns for the data is provided below. \n",
        "\n",
        "<table>\n",
        "<tr>\n",
        "<th>\n",
        "Fied\n",
        "</th>\n",
        "<th>\n",
        "Description\n",
        "</th>\n",
        "</tr>\n",
        "<tr>\n",
        "<td>\n",
        "Region\n",
        "</td>\n",
        "<td>\n",
        "This field contains the region in which the insurance was sold. There are six regions: Midwest, New England, North Central, Northeast, Southeast, and West.\n",
        "</td>\n",
        "</tr>\n",
        "<tr>\n",
        "<td>\n",
        "State\t\n",
        "</td>\n",
        "<td>\n",
        "This field contains the state in which the insurance policy applies. The data is from sales to the 48 states in continental US and the District of Columbia. (KAT Insurance does not offer insurance in the states of Alaska and Hawaii.)\n",
        "</td>\n",
        "</tr>\n",
        "<tr>\n",
        "<td>\n",
        "Salesperson\t\n",
        "</td>\n",
        "<td>\n",
        "This field contains the name of the salesperson who sold the policy.\n",
        "</td>\n",
        "</tr>\n",
        "<tr>\n",
        "<td>\n",
        "Insurance Type\t\n",
        "</td>\n",
        "<td>\n",
        "This field contains the type of insurance policy.\n",
        "</td>\n",
        "</tr>\n",
        "<tr>\n",
        "<td>\n",
        "Sales\t\n",
        "</td>\n",
        "<td>\n",
        "This field contains the selling price of the insurance policy.\n",
        "</td>\n",
        "</tr>\n",
        "<tr>\n",
        "<td>\n",
        "Date of Sale\t\n",
        "</td> \n",
        "<td>\n",
        "This field contains the date that the policy was sold.\n",
        "</td>\n",
        "</tr>\n",
        "<tr>\n",
        "<td>\n",
        "Invoice No\t\n",
        "</td> \n",
        "<td>\n",
        "This field contains the invoice number\n",
        "</td>\n",
        "</tr>\n",
        "<tr>\n",
        "<td>\n",
        "State Type\t\n",
        "</td> \n",
        "<td>\n",
        "This field is a combination of the State and Insurance Type fields\n",
        "</td>\n",
        "</tr>\n",
        "<tr>\n",
        "<td>\n",
        "Country\t\n",
        "</td> \n",
        "<td>\n",
        "This field contains the country in which the policy was sold. At this time, KAT Insurance only sells policies in the US.\n",
        "Variable Cost Percent\tThis field contains the variable cost percentage of each policy.\n",
        "</td>\n",
        "</tr>\n",
        "</table>\n"
      ],
      "metadata": {
        "id": "RxNqg4Xo2qWN"
      }
    },
    {
      "cell_type": "markdown",
      "source": [
        "# Requirement 1 - Read in data\n",
        "\n",
        "Run the following code to import the KAT insurance data using the **pandas** library."
      ],
      "metadata": {
        "id": "72jQCCPF6gbz"
      }
    },
    {
      "cell_type": "code",
      "execution_count": 7,
      "metadata": {
        "id": "q-h6KHtU2mQj"
      },
      "outputs": [],
      "source": [
        "import pandas as pd\n",
        "url='https://drive.google.com/file/d/1050Q00dOFHRwpBSUKHEI2tOHJHS2MSmI/view?usp=share_link'\n",
        "url='https://drive.google.com/uc?id=' + url.split('/')[-2]\n",
        "data=pd.read_csv(url)"
      ]
    },
    {
      "cell_type": "markdown",
      "source": [
        "# Requirement 2 - Data exploration\n",
        "## Show top 4 rows of the data\n",
        "\n",
        "Use the following code section to show the first 4 rows in the data [1 mark]"
      ],
      "metadata": {
        "id": "vqywn4ggDHmc"
      }
    },
    {
      "cell_type": "code",
      "source": [
        "#Include code here to show the top 10 rows of the data\n",
        "\n"
      ],
      "metadata": {
        "id": "rKXSFzD1Dqe1"
      },
      "execution_count": null,
      "outputs": []
    },
    {
      "cell_type": "markdown",
      "source": [
        "## Correct typographical errors\n",
        "\n",
        "There are some typographical errors in the data set in the Region and Insurance Type fields. Find and correct these errors."
      ],
      "metadata": {
        "id": "gPS9Ye8VH-Ym"
      }
    },
    {
      "cell_type": "code",
      "source": [
        "#include code to correct the typographical errors in the Region and Insurance Type fields.\n"
      ],
      "metadata": {
        "id": "MRJyNrMRIKvO"
      },
      "execution_count": null,
      "outputs": []
    },
    {
      "cell_type": "markdown",
      "source": [
        "## Data types by column [0.5 mark]\n",
        "\n",
        "Show the data types of each column"
      ],
      "metadata": {
        "id": "NavZhH22ERps"
      }
    },
    {
      "cell_type": "code",
      "source": [
        "#Include code here to show the data types of each column\n"
      ],
      "metadata": {
        "id": "45lNsqxyFaeY"
      },
      "execution_count": null,
      "outputs": []
    },
    {
      "cell_type": "markdown",
      "source": [
        "## Sort the data by sales, from highest to lowest and then show the top 10 and bottow 10 [6 marks]"
      ],
      "metadata": {
        "id": "qm3qz0XAJeHO"
      }
    },
    {
      "cell_type": "code",
      "source": [
        "#Include code to sort the data by sales from highest to lowest\n"
      ],
      "metadata": {
        "id": "aoX4eQNnJcmH"
      },
      "execution_count": 17,
      "outputs": []
    },
    {
      "cell_type": "code",
      "source": [
        "#Include code to list the top 10 by sales"
      ],
      "metadata": {
        "id": "sIvtC8cHKHQP"
      },
      "execution_count": null,
      "outputs": []
    },
    {
      "cell_type": "code",
      "source": [
        "#Include code to list the bottom 10 by sales\n"
      ],
      "metadata": {
        "id": "ugJVdEzwKm2t"
      },
      "execution_count": null,
      "outputs": []
    },
    {
      "cell_type": "markdown",
      "source": [
        "## Which state had the highest sales? What was the total dollar amount? [5 marks]"
      ],
      "metadata": {
        "id": "53H9mM1BLjZM"
      }
    },
    {
      "cell_type": "code",
      "source": [
        "# Include code to print the state with the highest sales and the total dollar amount\n"
      ],
      "metadata": {
        "id": "yOrM5BpzMdei"
      },
      "execution_count": null,
      "outputs": []
    },
    {
      "cell_type": "markdown",
      "source": [
        "## Which state had the lowest sales?  What was the total dollar amount? [5 marks]"
      ],
      "metadata": {
        "id": "raQgP88MMth7"
      }
    },
    {
      "cell_type": "code",
      "source": [
        "# Include code to print the state with the lowest sales and the total dollar amount"
      ],
      "metadata": {
        "id": "Y4OqcevgMrXl"
      },
      "execution_count": null,
      "outputs": []
    },
    {
      "cell_type": "markdown",
      "source": [
        "## What is the average amount of insurance sold per state? [5 marks]"
      ],
      "metadata": {
        "id": "siZMyEtOM7aP"
      }
    },
    {
      "cell_type": "code",
      "source": [
        "#Include code to print the average amount of insurance sold per state\n"
      ],
      "metadata": {
        "id": "OvZgD2JsNV9u"
      },
      "execution_count": null,
      "outputs": []
    },
    {
      "cell_type": "markdown",
      "source": [
        "## How many insurance policies were sold in each state? [5 marks]"
      ],
      "metadata": {
        "id": "yGpU8ZluOIjk"
      }
    },
    {
      "cell_type": "code",
      "source": [
        "#Include code to print the number policies sold in each state"
      ],
      "metadata": {
        "id": "rvOgdadPOP0q"
      },
      "execution_count": null,
      "outputs": []
    },
    {
      "cell_type": "markdown",
      "source": [
        "## Do any states not meet the $800,000 minimum sales level? [5 marks]"
      ],
      "metadata": {
        "id": "MZyRlvPpOz99"
      }
    },
    {
      "cell_type": "code",
      "source": [
        "#Code to print check and print states that meet the 800000 minimum sales"
      ],
      "metadata": {
        "id": "yeCjHaC9O8jG"
      },
      "execution_count": null,
      "outputs": []
    },
    {
      "cell_type": "markdown",
      "source": [
        "# Requirement 3 - Sort the state data by average policy amount, from highest to lowest.\n",
        "## Sort the data [2 marks]"
      ],
      "metadata": {
        "id": "csWd5f4hPQrQ"
      }
    },
    {
      "cell_type": "code",
      "source": [
        "#code to sort the data by average policy amount from highest to lowest"
      ],
      "metadata": {
        "id": "pA9IYG3VPfKi"
      },
      "execution_count": null,
      "outputs": []
    },
    {
      "cell_type": "markdown",
      "source": [
        "## Which state had the highest average policy amount? [2 marks]"
      ],
      "metadata": {
        "id": "Dx_bjJSsPzzT"
      }
    },
    {
      "cell_type": "code",
      "source": [
        "#code to print the state with the highest average policy amount"
      ],
      "metadata": {
        "id": "PTMW1Jh3P61O"
      },
      "execution_count": null,
      "outputs": []
    },
    {
      "cell_type": "markdown",
      "source": [
        "## Which state had the lowest average policy amount? [2 marks]"
      ],
      "metadata": {
        "id": "4_XktRAFQYdy"
      }
    },
    {
      "cell_type": "code",
      "source": [
        "#code to print the state that had the lowest average policy amount"
      ],
      "metadata": {
        "id": "7ewBDBeQP_3Q"
      },
      "execution_count": null,
      "outputs": []
    },
    {
      "cell_type": "markdown",
      "source": [
        "# Requirement 4 - Rank the regions from the highest total insurance sales to lowest total insurance sales.\n",
        "\n",
        "Sort the data by sales, from highest to lowest. [2 marks]"
      ],
      "metadata": {
        "id": "oIeDzllIQGGC"
      }
    },
    {
      "cell_type": "code",
      "source": [
        "#code to sort the data from highest to lowest"
      ],
      "metadata": {
        "id": "DWJQHIGNQ4VT"
      },
      "execution_count": null,
      "outputs": []
    },
    {
      "cell_type": "markdown",
      "source": [
        "## Which region had the highest sales? What is the total dollar amount? [5 marks]"
      ],
      "metadata": {
        "id": "NLTX52yXR_eX"
      }
    },
    {
      "cell_type": "code",
      "source": [
        "#code to print region with the highest sales and the total dollar amount"
      ],
      "metadata": {
        "id": "OM0Z3iCqSMOL"
      },
      "execution_count": null,
      "outputs": []
    },
    {
      "cell_type": "markdown",
      "source": [
        "## Which region had the lowest sales?  What is the total dollar amount? [5 marks]"
      ],
      "metadata": {
        "id": "Vd8RVCcgSVnV"
      }
    },
    {
      "cell_type": "code",
      "source": [
        "#code to print region with the lowest sales and the total dollar amount"
      ],
      "metadata": {
        "id": "lhXOk3GYSaxh"
      },
      "execution_count": null,
      "outputs": []
    },
    {
      "cell_type": "markdown",
      "source": [
        "# Requirement 5 - Who is the leading salesperson in each region? [5 marks]"
      ],
      "metadata": {
        "id": "O0Iu7gjiSljF"
      }
    },
    {
      "cell_type": "code",
      "source": [
        "#code to print the leading salesperson in each region"
      ],
      "metadata": {
        "id": "fwMlbBoGSvcM"
      },
      "execution_count": null,
      "outputs": []
    },
    {
      "cell_type": "markdown",
      "source": [
        "# Requirement 6 - What is the total dollar amount sold for each type of insurance? \n",
        "\n",
        "## Show the total dollar amount sold for each type of insurance"
      ],
      "metadata": {
        "id": "xplMNWLXS9Go"
      }
    },
    {
      "cell_type": "code",
      "source": [
        "#Code to print the total dollar amound sold for each type of insrance"
      ],
      "metadata": {
        "id": "lbsMNwZcVAcO"
      },
      "execution_count": null,
      "outputs": []
    },
    {
      "cell_type": "markdown",
      "source": [
        "## Create a graph to show total dollar amount of each type of insurance sold, by region."
      ],
      "metadata": {
        "id": "fq_PCdS4VXgv"
      }
    },
    {
      "cell_type": "code",
      "source": [
        "#code to print bar graph showing total dollar amount of each type of insurance sold by region"
      ],
      "metadata": {
        "id": "XcScnt63VmpG"
      },
      "execution_count": 20,
      "outputs": []
    },
    {
      "cell_type": "markdown",
      "source": [
        "## What does this graph show?"
      ],
      "metadata": {
        "id": "I3cmUQS1VzCl"
      }
    },
    {
      "cell_type": "markdown",
      "source": [],
      "metadata": {
        "id": "Whwui8ZNV3-c"
      }
    },
    {
      "cell_type": "markdown",
      "source": [
        "# Requirement 7 - Create a bar chart that shows total sales for each state.\n",
        "\n",
        "## Bar chart for total sales"
      ],
      "metadata": {
        "id": "nrx3k2rBWUhI"
      }
    },
    {
      "cell_type": "code",
      "source": [
        "#Code to generate a bar chart that shows total sales for each state"
      ],
      "metadata": {
        "id": "_1Jdh8v8WgAH"
      },
      "execution_count": null,
      "outputs": []
    },
    {
      "cell_type": "markdown",
      "source": [
        "## What can you surmise from this bar chart?"
      ],
      "metadata": {
        "id": "wT1RXGk1WxlO"
      }
    },
    {
      "cell_type": "markdown",
      "source": [],
      "metadata": {
        "id": "G-euQuAGW1Bc"
      }
    },
    {
      "cell_type": "markdown",
      "source": [],
      "metadata": {
        "id": "KmRuHOnNW4U3"
      }
    }
  ]
}