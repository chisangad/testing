{
  "nbformat": 4,
  "nbformat_minor": 0,
  "metadata": {
    "colab": {
      "provenance": [],
      "authorship_tag": "ABX9TyPfmv5OkdSS+vizHOqTLGDs",
      "include_colab_link": true
    },
    "kernelspec": {
      "name": "python3",
      "display_name": "Python 3"
    },
    "language_info": {
      "name": "python"
    }
  },
  "cells": [
    {
      "cell_type": "markdown",
      "metadata": {
        "id": "view-in-github",
        "colab_type": "text"
      },
      "source": [
        "<a href=\"https://colab.research.google.com/github/chisangad/testing/blob/master/Assignment.ipynb\" target=\"_parent\"><img src=\"https://colab.research.google.com/assets/colab-badge.svg\" alt=\"Open In Colab\"/></a>"
      ]
    },
    {
      "cell_type": "markdown",
      "source": [
        "# Background"
      ],
      "metadata": {
        "id": "HaYQKB0UHNDm"
      }
    },
    {
      "cell_type": "markdown",
      "source": [
        "In this assignment, you will be using Python to develop an analysis pipeline to analyse the sales transactions for an insurance company. The data set to be used in the assignment has been provided for you on Moodle, the data is based on real-life data from a national insurance company called KAT insurance with operations in the USA. The data set contains more than 65,000 insurance sales records from 2017. All data and names have been anonymised to preserve privacy. You will first have to find and correct errors in the data set.\n",
        "\n",
        "## General learning objectives \n",
        "1.\tClean the data in a data set\n",
        "2.\tAnalyse sales trends\n",
        "3.\tInterpret findings\n",
        "\n",
        "## Data dictionary\n",
        "\n",
        "A data dictionary describing the fields/columns for the data is provided below. \n",
        "\n",
        "<table>\n",
        "<tr>\n",
        "<th>\n",
        "Fied\n",
        "</th>\n",
        "<th>\n",
        "Description\n",
        "</th>\n",
        "</tr>\n",
        "<tr>\n",
        "<td>\n",
        "Region\n",
        "</td>\n",
        "<td>\n",
        "This field contains the region in which the insurance was sold. There are six regions: Midwest, New England, North Central, Northeast, Southeast, and West.\n",
        "</td>\n",
        "</tr>\n",
        "<tr>\n",
        "<td>\n",
        "State\t\n",
        "</td>\n",
        "<td>\n",
        "This field contains the state in which the insurance policy applies. The data is from sales to the 48 states in continental US and the District of Columbia. (KAT Insurance does not offer insurance in the states of Alaska and Hawaii.)\n",
        "</td>\n",
        "</tr>\n",
        "<tr>\n",
        "<td>\n",
        "Salesperson\t\n",
        "</td>\n",
        "<td>\n",
        "This field contains the name of the salesperson who sold the policy.\n",
        "</td>\n",
        "</tr>\n",
        "<tr>\n",
        "<td>\n",
        "Insurance Type\t\n",
        "</td>\n",
        "<td>\n",
        "This field contains the type of insurance policy.\n",
        "</td>\n",
        "</tr>\n",
        "<tr>\n",
        "<td>\n",
        "Sales\t\n",
        "</td>\n",
        "<td>\n",
        "This field contains the selling price of the insurance policy.\n",
        "</td>\n",
        "</tr>\n",
        "<tr>\n",
        "<td>\n",
        "Date of Sale\t\n",
        "</td> \n",
        "<td>\n",
        "This field contains the date that the policy was sold.\n",
        "</td>\n",
        "</tr>\n",
        "<tr>\n",
        "<td>\n",
        "Invoice No\t\n",
        "</td> \n",
        "<td>\n",
        "This field contains the invoice number\n",
        "</td>\n",
        "</tr>\n",
        "<tr>\n",
        "<td>\n",
        "State Type\t\n",
        "</td> \n",
        "<td>\n",
        "This field is a combination of the State and Insurance Type fields\n",
        "</td>\n",
        "</tr>\n",
        "<tr>\n",
        "<td>\n",
        "Country\t\n",
        "</td> \n",
        "<td>\n",
        "This field contains the country in which the policy was sold. At this time, KAT Insurance only sells policies in the US.\n",
        "Variable Cost Percent\tThis field contains the variable cost percentage of each policy.\n",
        "</td>\n",
        "</tr>\n",
        "</table>\n"
      ],
      "metadata": {
        "id": "RxNqg4Xo2qWN"
      }
    },
    {
      "cell_type": "markdown",
      "source": [
        "# Requirement 1 - Read in data\n",
        "\n",
        "Run the following code to import the KAT insurance data using the **pandas** library."
      ],
      "metadata": {
        "id": "72jQCCPF6gbz"
      }
    },
    {
      "cell_type": "code",
      "execution_count": 7,
      "metadata": {
        "id": "q-h6KHtU2mQj"
      },
      "outputs": [],
      "source": [
        "import pandas as pd\n",
        "url='https://drive.google.com/file/d/1050Q00dOFHRwpBSUKHEI2tOHJHS2MSmI/view?usp=share_link'\n",
        "url='https://drive.google.com/uc?id=' + url.split('/')[-2]\n",
        "data=pd.read_csv(url)"
      ]
    },
    {
      "cell_type": "markdown",
      "source": [
        "# Requirement 2 - Data exploration\n",
        "## Show top 4 rows of the data\n",
        "\n",
        "Use the following code section to show the first 4 rows in the data [1 mark]"
      ],
      "metadata": {
        "id": "vqywn4ggDHmc"
      }
    },
    {
      "cell_type": "code",
      "source": [
        "#Include code here to show the top 10 rows of the data\n",
        "\n"
      ],
      "metadata": {
        "colab": {
          "base_uri": "https://localhost:8080/",
          "height": 363
        },
        "id": "rKXSFzD1Dqe1",
        "outputId": "978ea728-56dc-4355-a773-091c7299e99c"
      },
      "execution_count": 9,
      "outputs": [
        {
          "output_type": "execute_result",
          "data": {
            "text/plain": [
              "          Region State Salesperson Insurance Type   Sales Date of Sale  \\\n",
              "0        Midwest    TX         Tom           Auto  934.79    1/01/2017   \n",
              "1      Southeast    TN    Jennifer           Auto  570.51    1/01/2017   \n",
              "2    New England    CT      Crissy           Auto  398.71    1/01/2017   \n",
              "3    New England    MA      Crissy           Auto  887.79    1/01/2017   \n",
              "4      Southeast    GA        John           Auto  500.21    1/01/2017   \n",
              "5           West    UT      Kellie           Auto  584.16    1/01/2017   \n",
              "6           West    NV      Kellie           Auto  433.22    1/01/2017   \n",
              "7           West    WA       Peter           Auto  958.92    1/01/2017   \n",
              "8  North Central    MO       Mario           Auto  411.77    1/01/2017   \n",
              "9      Southeast    MS       Frank           Auto  517.65    1/01/2017   \n",
              "\n",
              "      Invoice No State Type Country  \n",
              "0  A-2017-000010    TX-Auto     USA  \n",
              "1  A-2017-000012    TN-Auto     USA  \n",
              "2  A-2017-000016    CT-Auto     USA  \n",
              "3  A-2017-000017    MA-Auto     USA  \n",
              "4  A-2017-000028    GA-Auto     USA  \n",
              "5  A-2017-000029    UT-Auto     USA  \n",
              "6  A-2017-000033    NV-Auto     USA  \n",
              "7  A-2017-000036    WA-Auto     USA  \n",
              "8  A-2017-000037    MO-Auto     USA  \n",
              "9  A-2017-000041    MS-Auto     USA  "
            ],
            "text/html": [
              "\n",
              "  <div id=\"df-dda6193b-8966-453e-98ae-1426283ddf2d\">\n",
              "    <div class=\"colab-df-container\">\n",
              "      <div>\n",
              "<style scoped>\n",
              "    .dataframe tbody tr th:only-of-type {\n",
              "        vertical-align: middle;\n",
              "    }\n",
              "\n",
              "    .dataframe tbody tr th {\n",
              "        vertical-align: top;\n",
              "    }\n",
              "\n",
              "    .dataframe thead th {\n",
              "        text-align: right;\n",
              "    }\n",
              "</style>\n",
              "<table border=\"1\" class=\"dataframe\">\n",
              "  <thead>\n",
              "    <tr style=\"text-align: right;\">\n",
              "      <th></th>\n",
              "      <th>Region</th>\n",
              "      <th>State</th>\n",
              "      <th>Salesperson</th>\n",
              "      <th>Insurance Type</th>\n",
              "      <th>Sales</th>\n",
              "      <th>Date of Sale</th>\n",
              "      <th>Invoice No</th>\n",
              "      <th>State Type</th>\n",
              "      <th>Country</th>\n",
              "    </tr>\n",
              "  </thead>\n",
              "  <tbody>\n",
              "    <tr>\n",
              "      <th>0</th>\n",
              "      <td>Midwest</td>\n",
              "      <td>TX</td>\n",
              "      <td>Tom</td>\n",
              "      <td>Auto</td>\n",
              "      <td>934.79</td>\n",
              "      <td>1/01/2017</td>\n",
              "      <td>A-2017-000010</td>\n",
              "      <td>TX-Auto</td>\n",
              "      <td>USA</td>\n",
              "    </tr>\n",
              "    <tr>\n",
              "      <th>1</th>\n",
              "      <td>Southeast</td>\n",
              "      <td>TN</td>\n",
              "      <td>Jennifer</td>\n",
              "      <td>Auto</td>\n",
              "      <td>570.51</td>\n",
              "      <td>1/01/2017</td>\n",
              "      <td>A-2017-000012</td>\n",
              "      <td>TN-Auto</td>\n",
              "      <td>USA</td>\n",
              "    </tr>\n",
              "    <tr>\n",
              "      <th>2</th>\n",
              "      <td>New England</td>\n",
              "      <td>CT</td>\n",
              "      <td>Crissy</td>\n",
              "      <td>Auto</td>\n",
              "      <td>398.71</td>\n",
              "      <td>1/01/2017</td>\n",
              "      <td>A-2017-000016</td>\n",
              "      <td>CT-Auto</td>\n",
              "      <td>USA</td>\n",
              "    </tr>\n",
              "    <tr>\n",
              "      <th>3</th>\n",
              "      <td>New England</td>\n",
              "      <td>MA</td>\n",
              "      <td>Crissy</td>\n",
              "      <td>Auto</td>\n",
              "      <td>887.79</td>\n",
              "      <td>1/01/2017</td>\n",
              "      <td>A-2017-000017</td>\n",
              "      <td>MA-Auto</td>\n",
              "      <td>USA</td>\n",
              "    </tr>\n",
              "    <tr>\n",
              "      <th>4</th>\n",
              "      <td>Southeast</td>\n",
              "      <td>GA</td>\n",
              "      <td>John</td>\n",
              "      <td>Auto</td>\n",
              "      <td>500.21</td>\n",
              "      <td>1/01/2017</td>\n",
              "      <td>A-2017-000028</td>\n",
              "      <td>GA-Auto</td>\n",
              "      <td>USA</td>\n",
              "    </tr>\n",
              "    <tr>\n",
              "      <th>5</th>\n",
              "      <td>West</td>\n",
              "      <td>UT</td>\n",
              "      <td>Kellie</td>\n",
              "      <td>Auto</td>\n",
              "      <td>584.16</td>\n",
              "      <td>1/01/2017</td>\n",
              "      <td>A-2017-000029</td>\n",
              "      <td>UT-Auto</td>\n",
              "      <td>USA</td>\n",
              "    </tr>\n",
              "    <tr>\n",
              "      <th>6</th>\n",
              "      <td>West</td>\n",
              "      <td>NV</td>\n",
              "      <td>Kellie</td>\n",
              "      <td>Auto</td>\n",
              "      <td>433.22</td>\n",
              "      <td>1/01/2017</td>\n",
              "      <td>A-2017-000033</td>\n",
              "      <td>NV-Auto</td>\n",
              "      <td>USA</td>\n",
              "    </tr>\n",
              "    <tr>\n",
              "      <th>7</th>\n",
              "      <td>West</td>\n",
              "      <td>WA</td>\n",
              "      <td>Peter</td>\n",
              "      <td>Auto</td>\n",
              "      <td>958.92</td>\n",
              "      <td>1/01/2017</td>\n",
              "      <td>A-2017-000036</td>\n",
              "      <td>WA-Auto</td>\n",
              "      <td>USA</td>\n",
              "    </tr>\n",
              "    <tr>\n",
              "      <th>8</th>\n",
              "      <td>North Central</td>\n",
              "      <td>MO</td>\n",
              "      <td>Mario</td>\n",
              "      <td>Auto</td>\n",
              "      <td>411.77</td>\n",
              "      <td>1/01/2017</td>\n",
              "      <td>A-2017-000037</td>\n",
              "      <td>MO-Auto</td>\n",
              "      <td>USA</td>\n",
              "    </tr>\n",
              "    <tr>\n",
              "      <th>9</th>\n",
              "      <td>Southeast</td>\n",
              "      <td>MS</td>\n",
              "      <td>Frank</td>\n",
              "      <td>Auto</td>\n",
              "      <td>517.65</td>\n",
              "      <td>1/01/2017</td>\n",
              "      <td>A-2017-000041</td>\n",
              "      <td>MS-Auto</td>\n",
              "      <td>USA</td>\n",
              "    </tr>\n",
              "  </tbody>\n",
              "</table>\n",
              "</div>\n",
              "      <button class=\"colab-df-convert\" onclick=\"convertToInteractive('df-dda6193b-8966-453e-98ae-1426283ddf2d')\"\n",
              "              title=\"Convert this dataframe to an interactive table.\"\n",
              "              style=\"display:none;\">\n",
              "        \n",
              "  <svg xmlns=\"http://www.w3.org/2000/svg\" height=\"24px\"viewBox=\"0 0 24 24\"\n",
              "       width=\"24px\">\n",
              "    <path d=\"M0 0h24v24H0V0z\" fill=\"none\"/>\n",
              "    <path d=\"M18.56 5.44l.94 2.06.94-2.06 2.06-.94-2.06-.94-.94-2.06-.94 2.06-2.06.94zm-11 1L8.5 8.5l.94-2.06 2.06-.94-2.06-.94L8.5 2.5l-.94 2.06-2.06.94zm10 10l.94 2.06.94-2.06 2.06-.94-2.06-.94-.94-2.06-.94 2.06-2.06.94z\"/><path d=\"M17.41 7.96l-1.37-1.37c-.4-.4-.92-.59-1.43-.59-.52 0-1.04.2-1.43.59L10.3 9.45l-7.72 7.72c-.78.78-.78 2.05 0 2.83L4 21.41c.39.39.9.59 1.41.59.51 0 1.02-.2 1.41-.59l7.78-7.78 2.81-2.81c.8-.78.8-2.07 0-2.86zM5.41 20L4 18.59l7.72-7.72 1.47 1.35L5.41 20z\"/>\n",
              "  </svg>\n",
              "      </button>\n",
              "      \n",
              "  <style>\n",
              "    .colab-df-container {\n",
              "      display:flex;\n",
              "      flex-wrap:wrap;\n",
              "      gap: 12px;\n",
              "    }\n",
              "\n",
              "    .colab-df-convert {\n",
              "      background-color: #E8F0FE;\n",
              "      border: none;\n",
              "      border-radius: 50%;\n",
              "      cursor: pointer;\n",
              "      display: none;\n",
              "      fill: #1967D2;\n",
              "      height: 32px;\n",
              "      padding: 0 0 0 0;\n",
              "      width: 32px;\n",
              "    }\n",
              "\n",
              "    .colab-df-convert:hover {\n",
              "      background-color: #E2EBFA;\n",
              "      box-shadow: 0px 1px 2px rgba(60, 64, 67, 0.3), 0px 1px 3px 1px rgba(60, 64, 67, 0.15);\n",
              "      fill: #174EA6;\n",
              "    }\n",
              "\n",
              "    [theme=dark] .colab-df-convert {\n",
              "      background-color: #3B4455;\n",
              "      fill: #D2E3FC;\n",
              "    }\n",
              "\n",
              "    [theme=dark] .colab-df-convert:hover {\n",
              "      background-color: #434B5C;\n",
              "      box-shadow: 0px 1px 3px 1px rgba(0, 0, 0, 0.15);\n",
              "      filter: drop-shadow(0px 1px 2px rgba(0, 0, 0, 0.3));\n",
              "      fill: #FFFFFF;\n",
              "    }\n",
              "  </style>\n",
              "\n",
              "      <script>\n",
              "        const buttonEl =\n",
              "          document.querySelector('#df-dda6193b-8966-453e-98ae-1426283ddf2d button.colab-df-convert');\n",
              "        buttonEl.style.display =\n",
              "          google.colab.kernel.accessAllowed ? 'block' : 'none';\n",
              "\n",
              "        async function convertToInteractive(key) {\n",
              "          const element = document.querySelector('#df-dda6193b-8966-453e-98ae-1426283ddf2d');\n",
              "          const dataTable =\n",
              "            await google.colab.kernel.invokeFunction('convertToInteractive',\n",
              "                                                     [key], {});\n",
              "          if (!dataTable) return;\n",
              "\n",
              "          const docLinkHtml = 'Like what you see? Visit the ' +\n",
              "            '<a target=\"_blank\" href=https://colab.research.google.com/notebooks/data_table.ipynb>data table notebook</a>'\n",
              "            + ' to learn more about interactive tables.';\n",
              "          element.innerHTML = '';\n",
              "          dataTable['output_type'] = 'display_data';\n",
              "          await google.colab.output.renderOutput(dataTable, element);\n",
              "          const docLink = document.createElement('div');\n",
              "          docLink.innerHTML = docLinkHtml;\n",
              "          element.appendChild(docLink);\n",
              "        }\n",
              "      </script>\n",
              "    </div>\n",
              "  </div>\n",
              "  "
            ]
          },
          "metadata": {},
          "execution_count": 9
        }
      ]
    },
    {
      "cell_type": "markdown",
      "source": [
        "## Correct typographical errors\n",
        "\n",
        "There are some typographical errors in the data set in the Region and Insurance Type fields. Find and correct these errors."
      ],
      "metadata": {
        "id": "gPS9Ye8VH-Ym"
      }
    },
    {
      "cell_type": "code",
      "source": [
        "#include code to correct the typographical errors in the Region and Insurance Type fields.\n"
      ],
      "metadata": {
        "id": "MRJyNrMRIKvO"
      },
      "execution_count": null,
      "outputs": []
    },
    {
      "cell_type": "markdown",
      "source": [
        "## Data types by column [0.5 mark]\n",
        "\n",
        "Show the data types of each column"
      ],
      "metadata": {
        "id": "NavZhH22ERps"
      }
    },
    {
      "cell_type": "code",
      "source": [
        "#Include code here to show the data types of each column\n"
      ],
      "metadata": {
        "colab": {
          "base_uri": "https://localhost:8080/"
        },
        "id": "45lNsqxyFaeY",
        "outputId": "31ff04ff-7eff-4b6f-bc73-7c1c652883b7"
      },
      "execution_count": 12,
      "outputs": [
        {
          "output_type": "execute_result",
          "data": {
            "text/plain": [
              "Region             object\n",
              "State              object\n",
              "Salesperson        object\n",
              "Insurance Type     object\n",
              "Sales             float64\n",
              "Date of Sale       object\n",
              "Invoice No         object\n",
              "State Type         object\n",
              "Country            object\n",
              "dtype: object"
            ]
          },
          "metadata": {},
          "execution_count": 12
        }
      ]
    },
    {
      "cell_type": "markdown",
      "source": [
        "## Sort the data by sales, from highest to lowest and then show the top 10 and bottow 10 [6 marks]"
      ],
      "metadata": {
        "id": "qm3qz0XAJeHO"
      }
    },
    {
      "cell_type": "code",
      "source": [
        "#Include code to sort the data by sales from highest to lowest\n"
      ],
      "metadata": {
        "id": "aoX4eQNnJcmH"
      },
      "execution_count": 17,
      "outputs": []
    },
    {
      "cell_type": "code",
      "source": [
        "#Include code to list the top 10 by sales"
      ],
      "metadata": {
        "colab": {
          "base_uri": "https://localhost:8080/",
          "height": 363
        },
        "id": "sIvtC8cHKHQP",
        "outputId": "61ca415e-9d5a-4186-f001-d62871641cb5"
      },
      "execution_count": 18,
      "outputs": [
        {
          "output_type": "execute_result",
          "data": {
            "text/plain": [
              "          Region State Salesperson Insurance Type    Sales Date of Sale  \\\n",
              "53451  Northeast    DC        Matt   Professional  2246.63   24/02/2017   \n",
              "56020  Northeast    OH        Mike   Professional  2198.01    9/05/2017   \n",
              "63064  Northeast    OH        Mike   Professional  2193.90   21/11/2017   \n",
              "62977  Northeast    DC        Matt   Professional  2191.72   18/11/2017   \n",
              "59859  Northeast    PA        Mike   Professional  2190.60   22/08/2017   \n",
              "62793  Northeast    NJ        Fred   Professional  2189.23   13/11/2017   \n",
              "58242  Northeast    DC        Matt   Professional  2163.10    9/07/2017   \n",
              "61307  Northeast    PA        Mike   Professional  2157.53    2/10/2017   \n",
              "60961  Northeast    OH        Mike   Professional  2151.63   22/09/2017   \n",
              "60983    Midwest    NE        Dave   Professional  2151.35   23/09/2017   \n",
              "\n",
              "          Invoice No       State Type Country  \n",
              "53451  M-2017-009838  DC-Professional     USA  \n",
              "56020  M-2017-022746  OH-Professional     USA  \n",
              "63064  M-2017-057350  OH-Professional     USA  \n",
              "62977  M-2017-056887  DC-Professional     USA  \n",
              "59859  M-2017-041385  PA-Professional     USA  \n",
              "62793  M-2017-055941  NJ-Professional     USA  \n",
              "58242  M-2017-033458  DC-Professional     USA  \n",
              "61307  M-2017-048627  PA-Professional     USA  \n",
              "60961  M-2017-046795  OH-Professional     USA  \n",
              "60983  M-2017-046963  NE-Professional     USA  "
            ],
            "text/html": [
              "\n",
              "  <div id=\"df-c63ab2ac-e678-4c15-8e51-ef3980c306f6\">\n",
              "    <div class=\"colab-df-container\">\n",
              "      <div>\n",
              "<style scoped>\n",
              "    .dataframe tbody tr th:only-of-type {\n",
              "        vertical-align: middle;\n",
              "    }\n",
              "\n",
              "    .dataframe tbody tr th {\n",
              "        vertical-align: top;\n",
              "    }\n",
              "\n",
              "    .dataframe thead th {\n",
              "        text-align: right;\n",
              "    }\n",
              "</style>\n",
              "<table border=\"1\" class=\"dataframe\">\n",
              "  <thead>\n",
              "    <tr style=\"text-align: right;\">\n",
              "      <th></th>\n",
              "      <th>Region</th>\n",
              "      <th>State</th>\n",
              "      <th>Salesperson</th>\n",
              "      <th>Insurance Type</th>\n",
              "      <th>Sales</th>\n",
              "      <th>Date of Sale</th>\n",
              "      <th>Invoice No</th>\n",
              "      <th>State Type</th>\n",
              "      <th>Country</th>\n",
              "    </tr>\n",
              "  </thead>\n",
              "  <tbody>\n",
              "    <tr>\n",
              "      <th>53451</th>\n",
              "      <td>Northeast</td>\n",
              "      <td>DC</td>\n",
              "      <td>Matt</td>\n",
              "      <td>Professional</td>\n",
              "      <td>2246.63</td>\n",
              "      <td>24/02/2017</td>\n",
              "      <td>M-2017-009838</td>\n",
              "      <td>DC-Professional</td>\n",
              "      <td>USA</td>\n",
              "    </tr>\n",
              "    <tr>\n",
              "      <th>56020</th>\n",
              "      <td>Northeast</td>\n",
              "      <td>OH</td>\n",
              "      <td>Mike</td>\n",
              "      <td>Professional</td>\n",
              "      <td>2198.01</td>\n",
              "      <td>9/05/2017</td>\n",
              "      <td>M-2017-022746</td>\n",
              "      <td>OH-Professional</td>\n",
              "      <td>USA</td>\n",
              "    </tr>\n",
              "    <tr>\n",
              "      <th>63064</th>\n",
              "      <td>Northeast</td>\n",
              "      <td>OH</td>\n",
              "      <td>Mike</td>\n",
              "      <td>Professional</td>\n",
              "      <td>2193.90</td>\n",
              "      <td>21/11/2017</td>\n",
              "      <td>M-2017-057350</td>\n",
              "      <td>OH-Professional</td>\n",
              "      <td>USA</td>\n",
              "    </tr>\n",
              "    <tr>\n",
              "      <th>62977</th>\n",
              "      <td>Northeast</td>\n",
              "      <td>DC</td>\n",
              "      <td>Matt</td>\n",
              "      <td>Professional</td>\n",
              "      <td>2191.72</td>\n",
              "      <td>18/11/2017</td>\n",
              "      <td>M-2017-056887</td>\n",
              "      <td>DC-Professional</td>\n",
              "      <td>USA</td>\n",
              "    </tr>\n",
              "    <tr>\n",
              "      <th>59859</th>\n",
              "      <td>Northeast</td>\n",
              "      <td>PA</td>\n",
              "      <td>Mike</td>\n",
              "      <td>Professional</td>\n",
              "      <td>2190.60</td>\n",
              "      <td>22/08/2017</td>\n",
              "      <td>M-2017-041385</td>\n",
              "      <td>PA-Professional</td>\n",
              "      <td>USA</td>\n",
              "    </tr>\n",
              "    <tr>\n",
              "      <th>62793</th>\n",
              "      <td>Northeast</td>\n",
              "      <td>NJ</td>\n",
              "      <td>Fred</td>\n",
              "      <td>Professional</td>\n",
              "      <td>2189.23</td>\n",
              "      <td>13/11/2017</td>\n",
              "      <td>M-2017-055941</td>\n",
              "      <td>NJ-Professional</td>\n",
              "      <td>USA</td>\n",
              "    </tr>\n",
              "    <tr>\n",
              "      <th>58242</th>\n",
              "      <td>Northeast</td>\n",
              "      <td>DC</td>\n",
              "      <td>Matt</td>\n",
              "      <td>Professional</td>\n",
              "      <td>2163.10</td>\n",
              "      <td>9/07/2017</td>\n",
              "      <td>M-2017-033458</td>\n",
              "      <td>DC-Professional</td>\n",
              "      <td>USA</td>\n",
              "    </tr>\n",
              "    <tr>\n",
              "      <th>61307</th>\n",
              "      <td>Northeast</td>\n",
              "      <td>PA</td>\n",
              "      <td>Mike</td>\n",
              "      <td>Professional</td>\n",
              "      <td>2157.53</td>\n",
              "      <td>2/10/2017</td>\n",
              "      <td>M-2017-048627</td>\n",
              "      <td>PA-Professional</td>\n",
              "      <td>USA</td>\n",
              "    </tr>\n",
              "    <tr>\n",
              "      <th>60961</th>\n",
              "      <td>Northeast</td>\n",
              "      <td>OH</td>\n",
              "      <td>Mike</td>\n",
              "      <td>Professional</td>\n",
              "      <td>2151.63</td>\n",
              "      <td>22/09/2017</td>\n",
              "      <td>M-2017-046795</td>\n",
              "      <td>OH-Professional</td>\n",
              "      <td>USA</td>\n",
              "    </tr>\n",
              "    <tr>\n",
              "      <th>60983</th>\n",
              "      <td>Midwest</td>\n",
              "      <td>NE</td>\n",
              "      <td>Dave</td>\n",
              "      <td>Professional</td>\n",
              "      <td>2151.35</td>\n",
              "      <td>23/09/2017</td>\n",
              "      <td>M-2017-046963</td>\n",
              "      <td>NE-Professional</td>\n",
              "      <td>USA</td>\n",
              "    </tr>\n",
              "  </tbody>\n",
              "</table>\n",
              "</div>\n",
              "      <button class=\"colab-df-convert\" onclick=\"convertToInteractive('df-c63ab2ac-e678-4c15-8e51-ef3980c306f6')\"\n",
              "              title=\"Convert this dataframe to an interactive table.\"\n",
              "              style=\"display:none;\">\n",
              "        \n",
              "  <svg xmlns=\"http://www.w3.org/2000/svg\" height=\"24px\"viewBox=\"0 0 24 24\"\n",
              "       width=\"24px\">\n",
              "    <path d=\"M0 0h24v24H0V0z\" fill=\"none\"/>\n",
              "    <path d=\"M18.56 5.44l.94 2.06.94-2.06 2.06-.94-2.06-.94-.94-2.06-.94 2.06-2.06.94zm-11 1L8.5 8.5l.94-2.06 2.06-.94-2.06-.94L8.5 2.5l-.94 2.06-2.06.94zm10 10l.94 2.06.94-2.06 2.06-.94-2.06-.94-.94-2.06-.94 2.06-2.06.94z\"/><path d=\"M17.41 7.96l-1.37-1.37c-.4-.4-.92-.59-1.43-.59-.52 0-1.04.2-1.43.59L10.3 9.45l-7.72 7.72c-.78.78-.78 2.05 0 2.83L4 21.41c.39.39.9.59 1.41.59.51 0 1.02-.2 1.41-.59l7.78-7.78 2.81-2.81c.8-.78.8-2.07 0-2.86zM5.41 20L4 18.59l7.72-7.72 1.47 1.35L5.41 20z\"/>\n",
              "  </svg>\n",
              "      </button>\n",
              "      \n",
              "  <style>\n",
              "    .colab-df-container {\n",
              "      display:flex;\n",
              "      flex-wrap:wrap;\n",
              "      gap: 12px;\n",
              "    }\n",
              "\n",
              "    .colab-df-convert {\n",
              "      background-color: #E8F0FE;\n",
              "      border: none;\n",
              "      border-radius: 50%;\n",
              "      cursor: pointer;\n",
              "      display: none;\n",
              "      fill: #1967D2;\n",
              "      height: 32px;\n",
              "      padding: 0 0 0 0;\n",
              "      width: 32px;\n",
              "    }\n",
              "\n",
              "    .colab-df-convert:hover {\n",
              "      background-color: #E2EBFA;\n",
              "      box-shadow: 0px 1px 2px rgba(60, 64, 67, 0.3), 0px 1px 3px 1px rgba(60, 64, 67, 0.15);\n",
              "      fill: #174EA6;\n",
              "    }\n",
              "\n",
              "    [theme=dark] .colab-df-convert {\n",
              "      background-color: #3B4455;\n",
              "      fill: #D2E3FC;\n",
              "    }\n",
              "\n",
              "    [theme=dark] .colab-df-convert:hover {\n",
              "      background-color: #434B5C;\n",
              "      box-shadow: 0px 1px 3px 1px rgba(0, 0, 0, 0.15);\n",
              "      filter: drop-shadow(0px 1px 2px rgba(0, 0, 0, 0.3));\n",
              "      fill: #FFFFFF;\n",
              "    }\n",
              "  </style>\n",
              "\n",
              "      <script>\n",
              "        const buttonEl =\n",
              "          document.querySelector('#df-c63ab2ac-e678-4c15-8e51-ef3980c306f6 button.colab-df-convert');\n",
              "        buttonEl.style.display =\n",
              "          google.colab.kernel.accessAllowed ? 'block' : 'none';\n",
              "\n",
              "        async function convertToInteractive(key) {\n",
              "          const element = document.querySelector('#df-c63ab2ac-e678-4c15-8e51-ef3980c306f6');\n",
              "          const dataTable =\n",
              "            await google.colab.kernel.invokeFunction('convertToInteractive',\n",
              "                                                     [key], {});\n",
              "          if (!dataTable) return;\n",
              "\n",
              "          const docLinkHtml = 'Like what you see? Visit the ' +\n",
              "            '<a target=\"_blank\" href=https://colab.research.google.com/notebooks/data_table.ipynb>data table notebook</a>'\n",
              "            + ' to learn more about interactive tables.';\n",
              "          element.innerHTML = '';\n",
              "          dataTable['output_type'] = 'display_data';\n",
              "          await google.colab.output.renderOutput(dataTable, element);\n",
              "          const docLink = document.createElement('div');\n",
              "          docLink.innerHTML = docLinkHtml;\n",
              "          element.appendChild(docLink);\n",
              "        }\n",
              "      </script>\n",
              "    </div>\n",
              "  </div>\n",
              "  "
            ]
          },
          "metadata": {},
          "execution_count": 18
        }
      ]
    },
    {
      "cell_type": "code",
      "source": [
        "#Include code to list the bottom 10 by sales\n"
      ],
      "metadata": {
        "colab": {
          "base_uri": "https://localhost:8080/",
          "height": 363
        },
        "id": "ugJVdEzwKm2t",
        "outputId": "bed1f2ef-3174-4f83-be2b-99a1873f16ae"
      },
      "execution_count": 19,
      "outputs": [
        {
          "output_type": "execute_result",
          "data": {
            "text/plain": [
              "            Region State Salesperson Insurance Type  Sales Date of Sale  \\\n",
              "41143  New England    MA      Crissy           Life  48.15   11/03/2017   \n",
              "38984  New England    MA      Crissy           Life  48.02    8/01/2017   \n",
              "41620  New England    MA      Crissy           Life  47.90   26/03/2017   \n",
              "51437  New England    VT        Sara           Life  47.55   30/12/2017   \n",
              "48063  New England    RI      Crissy           Life  47.51   23/09/2017   \n",
              "49211  New England    MA      Crissy           Life  47.49   27/10/2017   \n",
              "46192  New England    CT      Crissy           Life  46.63    3/08/2017   \n",
              "44316  New England    MA      Crissy           Life  46.43   11/06/2017   \n",
              "41262  New England    CT      Crissy           Life  45.80   14/03/2017   \n",
              "42036  New England    ME        Sara           Life  45.70    6/04/2017   \n",
              "\n",
              "          Invoice No State Type Country  \n",
              "41143  L-2017-012364    MA-Life     USA  \n",
              "38984  L-2017-001426    MA-Life     USA  \n",
              "41620  L-2017-014983    MA-Life     USA  \n",
              "51437  L-2017-064196    VT-Life     USA  \n",
              "48063  L-2017-047003    RI-Life     USA  \n",
              "49211  L-2017-053025    MA-Life     USA  \n",
              "46192  L-2017-037929    CT-Life     USA  \n",
              "44316  L-2017-028478    MA-Life     USA  \n",
              "41262  L-2017-012952    CT-Life     USA  \n",
              "42036  L-2017-017052    ME-Life     USA  "
            ],
            "text/html": [
              "\n",
              "  <div id=\"df-659db0f9-efd9-40a9-861b-bf97ffa50a0d\">\n",
              "    <div class=\"colab-df-container\">\n",
              "      <div>\n",
              "<style scoped>\n",
              "    .dataframe tbody tr th:only-of-type {\n",
              "        vertical-align: middle;\n",
              "    }\n",
              "\n",
              "    .dataframe tbody tr th {\n",
              "        vertical-align: top;\n",
              "    }\n",
              "\n",
              "    .dataframe thead th {\n",
              "        text-align: right;\n",
              "    }\n",
              "</style>\n",
              "<table border=\"1\" class=\"dataframe\">\n",
              "  <thead>\n",
              "    <tr style=\"text-align: right;\">\n",
              "      <th></th>\n",
              "      <th>Region</th>\n",
              "      <th>State</th>\n",
              "      <th>Salesperson</th>\n",
              "      <th>Insurance Type</th>\n",
              "      <th>Sales</th>\n",
              "      <th>Date of Sale</th>\n",
              "      <th>Invoice No</th>\n",
              "      <th>State Type</th>\n",
              "      <th>Country</th>\n",
              "    </tr>\n",
              "  </thead>\n",
              "  <tbody>\n",
              "    <tr>\n",
              "      <th>41143</th>\n",
              "      <td>New England</td>\n",
              "      <td>MA</td>\n",
              "      <td>Crissy</td>\n",
              "      <td>Life</td>\n",
              "      <td>48.15</td>\n",
              "      <td>11/03/2017</td>\n",
              "      <td>L-2017-012364</td>\n",
              "      <td>MA-Life</td>\n",
              "      <td>USA</td>\n",
              "    </tr>\n",
              "    <tr>\n",
              "      <th>38984</th>\n",
              "      <td>New England</td>\n",
              "      <td>MA</td>\n",
              "      <td>Crissy</td>\n",
              "      <td>Life</td>\n",
              "      <td>48.02</td>\n",
              "      <td>8/01/2017</td>\n",
              "      <td>L-2017-001426</td>\n",
              "      <td>MA-Life</td>\n",
              "      <td>USA</td>\n",
              "    </tr>\n",
              "    <tr>\n",
              "      <th>41620</th>\n",
              "      <td>New England</td>\n",
              "      <td>MA</td>\n",
              "      <td>Crissy</td>\n",
              "      <td>Life</td>\n",
              "      <td>47.90</td>\n",
              "      <td>26/03/2017</td>\n",
              "      <td>L-2017-014983</td>\n",
              "      <td>MA-Life</td>\n",
              "      <td>USA</td>\n",
              "    </tr>\n",
              "    <tr>\n",
              "      <th>51437</th>\n",
              "      <td>New England</td>\n",
              "      <td>VT</td>\n",
              "      <td>Sara</td>\n",
              "      <td>Life</td>\n",
              "      <td>47.55</td>\n",
              "      <td>30/12/2017</td>\n",
              "      <td>L-2017-064196</td>\n",
              "      <td>VT-Life</td>\n",
              "      <td>USA</td>\n",
              "    </tr>\n",
              "    <tr>\n",
              "      <th>48063</th>\n",
              "      <td>New England</td>\n",
              "      <td>RI</td>\n",
              "      <td>Crissy</td>\n",
              "      <td>Life</td>\n",
              "      <td>47.51</td>\n",
              "      <td>23/09/2017</td>\n",
              "      <td>L-2017-047003</td>\n",
              "      <td>RI-Life</td>\n",
              "      <td>USA</td>\n",
              "    </tr>\n",
              "    <tr>\n",
              "      <th>49211</th>\n",
              "      <td>New England</td>\n",
              "      <td>MA</td>\n",
              "      <td>Crissy</td>\n",
              "      <td>Life</td>\n",
              "      <td>47.49</td>\n",
              "      <td>27/10/2017</td>\n",
              "      <td>L-2017-053025</td>\n",
              "      <td>MA-Life</td>\n",
              "      <td>USA</td>\n",
              "    </tr>\n",
              "    <tr>\n",
              "      <th>46192</th>\n",
              "      <td>New England</td>\n",
              "      <td>CT</td>\n",
              "      <td>Crissy</td>\n",
              "      <td>Life</td>\n",
              "      <td>46.63</td>\n",
              "      <td>3/08/2017</td>\n",
              "      <td>L-2017-037929</td>\n",
              "      <td>CT-Life</td>\n",
              "      <td>USA</td>\n",
              "    </tr>\n",
              "    <tr>\n",
              "      <th>44316</th>\n",
              "      <td>New England</td>\n",
              "      <td>MA</td>\n",
              "      <td>Crissy</td>\n",
              "      <td>Life</td>\n",
              "      <td>46.43</td>\n",
              "      <td>11/06/2017</td>\n",
              "      <td>L-2017-028478</td>\n",
              "      <td>MA-Life</td>\n",
              "      <td>USA</td>\n",
              "    </tr>\n",
              "    <tr>\n",
              "      <th>41262</th>\n",
              "      <td>New England</td>\n",
              "      <td>CT</td>\n",
              "      <td>Crissy</td>\n",
              "      <td>Life</td>\n",
              "      <td>45.80</td>\n",
              "      <td>14/03/2017</td>\n",
              "      <td>L-2017-012952</td>\n",
              "      <td>CT-Life</td>\n",
              "      <td>USA</td>\n",
              "    </tr>\n",
              "    <tr>\n",
              "      <th>42036</th>\n",
              "      <td>New England</td>\n",
              "      <td>ME</td>\n",
              "      <td>Sara</td>\n",
              "      <td>Life</td>\n",
              "      <td>45.70</td>\n",
              "      <td>6/04/2017</td>\n",
              "      <td>L-2017-017052</td>\n",
              "      <td>ME-Life</td>\n",
              "      <td>USA</td>\n",
              "    </tr>\n",
              "  </tbody>\n",
              "</table>\n",
              "</div>\n",
              "      <button class=\"colab-df-convert\" onclick=\"convertToInteractive('df-659db0f9-efd9-40a9-861b-bf97ffa50a0d')\"\n",
              "              title=\"Convert this dataframe to an interactive table.\"\n",
              "              style=\"display:none;\">\n",
              "        \n",
              "  <svg xmlns=\"http://www.w3.org/2000/svg\" height=\"24px\"viewBox=\"0 0 24 24\"\n",
              "       width=\"24px\">\n",
              "    <path d=\"M0 0h24v24H0V0z\" fill=\"none\"/>\n",
              "    <path d=\"M18.56 5.44l.94 2.06.94-2.06 2.06-.94-2.06-.94-.94-2.06-.94 2.06-2.06.94zm-11 1L8.5 8.5l.94-2.06 2.06-.94-2.06-.94L8.5 2.5l-.94 2.06-2.06.94zm10 10l.94 2.06.94-2.06 2.06-.94-2.06-.94-.94-2.06-.94 2.06-2.06.94z\"/><path d=\"M17.41 7.96l-1.37-1.37c-.4-.4-.92-.59-1.43-.59-.52 0-1.04.2-1.43.59L10.3 9.45l-7.72 7.72c-.78.78-.78 2.05 0 2.83L4 21.41c.39.39.9.59 1.41.59.51 0 1.02-.2 1.41-.59l7.78-7.78 2.81-2.81c.8-.78.8-2.07 0-2.86zM5.41 20L4 18.59l7.72-7.72 1.47 1.35L5.41 20z\"/>\n",
              "  </svg>\n",
              "      </button>\n",
              "      \n",
              "  <style>\n",
              "    .colab-df-container {\n",
              "      display:flex;\n",
              "      flex-wrap:wrap;\n",
              "      gap: 12px;\n",
              "    }\n",
              "\n",
              "    .colab-df-convert {\n",
              "      background-color: #E8F0FE;\n",
              "      border: none;\n",
              "      border-radius: 50%;\n",
              "      cursor: pointer;\n",
              "      display: none;\n",
              "      fill: #1967D2;\n",
              "      height: 32px;\n",
              "      padding: 0 0 0 0;\n",
              "      width: 32px;\n",
              "    }\n",
              "\n",
              "    .colab-df-convert:hover {\n",
              "      background-color: #E2EBFA;\n",
              "      box-shadow: 0px 1px 2px rgba(60, 64, 67, 0.3), 0px 1px 3px 1px rgba(60, 64, 67, 0.15);\n",
              "      fill: #174EA6;\n",
              "    }\n",
              "\n",
              "    [theme=dark] .colab-df-convert {\n",
              "      background-color: #3B4455;\n",
              "      fill: #D2E3FC;\n",
              "    }\n",
              "\n",
              "    [theme=dark] .colab-df-convert:hover {\n",
              "      background-color: #434B5C;\n",
              "      box-shadow: 0px 1px 3px 1px rgba(0, 0, 0, 0.15);\n",
              "      filter: drop-shadow(0px 1px 2px rgba(0, 0, 0, 0.3));\n",
              "      fill: #FFFFFF;\n",
              "    }\n",
              "  </style>\n",
              "\n",
              "      <script>\n",
              "        const buttonEl =\n",
              "          document.querySelector('#df-659db0f9-efd9-40a9-861b-bf97ffa50a0d button.colab-df-convert');\n",
              "        buttonEl.style.display =\n",
              "          google.colab.kernel.accessAllowed ? 'block' : 'none';\n",
              "\n",
              "        async function convertToInteractive(key) {\n",
              "          const element = document.querySelector('#df-659db0f9-efd9-40a9-861b-bf97ffa50a0d');\n",
              "          const dataTable =\n",
              "            await google.colab.kernel.invokeFunction('convertToInteractive',\n",
              "                                                     [key], {});\n",
              "          if (!dataTable) return;\n",
              "\n",
              "          const docLinkHtml = 'Like what you see? Visit the ' +\n",
              "            '<a target=\"_blank\" href=https://colab.research.google.com/notebooks/data_table.ipynb>data table notebook</a>'\n",
              "            + ' to learn more about interactive tables.';\n",
              "          element.innerHTML = '';\n",
              "          dataTable['output_type'] = 'display_data';\n",
              "          await google.colab.output.renderOutput(dataTable, element);\n",
              "          const docLink = document.createElement('div');\n",
              "          docLink.innerHTML = docLinkHtml;\n",
              "          element.appendChild(docLink);\n",
              "        }\n",
              "      </script>\n",
              "    </div>\n",
              "  </div>\n",
              "  "
            ]
          },
          "metadata": {},
          "execution_count": 19
        }
      ]
    },
    {
      "cell_type": "markdown",
      "source": [
        "## Which state had the highest sales? What was the total dollar amount? [5 marks]"
      ],
      "metadata": {
        "id": "53H9mM1BLjZM"
      }
    },
    {
      "cell_type": "code",
      "source": [
        "# Include code to print the state with the highest sales and the total dollar amount\n"
      ],
      "metadata": {
        "id": "yOrM5BpzMdei"
      },
      "execution_count": null,
      "outputs": []
    },
    {
      "cell_type": "markdown",
      "source": [
        "## Which state had the lowest sales?  What was the total dollar amount? [5 marks]"
      ],
      "metadata": {
        "id": "raQgP88MMth7"
      }
    },
    {
      "cell_type": "code",
      "source": [
        "# Include code to print the state with the lowest sales and the total dollar amount"
      ],
      "metadata": {
        "id": "Y4OqcevgMrXl"
      },
      "execution_count": null,
      "outputs": []
    },
    {
      "cell_type": "markdown",
      "source": [
        "## What is the average amount of insurance sold per state? [5 marks]"
      ],
      "metadata": {
        "id": "siZMyEtOM7aP"
      }
    },
    {
      "cell_type": "code",
      "source": [
        "#Include code to print the average amount of insurance sold per state\n"
      ],
      "metadata": {
        "id": "OvZgD2JsNV9u"
      },
      "execution_count": null,
      "outputs": []
    },
    {
      "cell_type": "markdown",
      "source": [
        "## How many insurance policies were sold in each state? [5 marks]"
      ],
      "metadata": {
        "id": "yGpU8ZluOIjk"
      }
    },
    {
      "cell_type": "code",
      "source": [
        "#Include code to print the number policies sold in each state"
      ],
      "metadata": {
        "id": "rvOgdadPOP0q"
      },
      "execution_count": null,
      "outputs": []
    },
    {
      "cell_type": "markdown",
      "source": [
        "## Do any states not meet the $800,000 minimum sales level? [5 marks]"
      ],
      "metadata": {
        "id": "MZyRlvPpOz99"
      }
    },
    {
      "cell_type": "code",
      "source": [
        "#Code to print check and print states that meet the 800000 minimum sales"
      ],
      "metadata": {
        "id": "yeCjHaC9O8jG"
      },
      "execution_count": null,
      "outputs": []
    },
    {
      "cell_type": "markdown",
      "source": [
        "# Requirement 3 - Sort the state data by average policy amount, from highest to lowest.\n",
        "## Sort the data [2 marks]"
      ],
      "metadata": {
        "id": "csWd5f4hPQrQ"
      }
    },
    {
      "cell_type": "code",
      "source": [
        "#code to sort the data by average policy amount from highest to lowest"
      ],
      "metadata": {
        "id": "pA9IYG3VPfKi"
      },
      "execution_count": null,
      "outputs": []
    },
    {
      "cell_type": "markdown",
      "source": [
        "## Which state had the highest average policy amount? [2 marks]"
      ],
      "metadata": {
        "id": "Dx_bjJSsPzzT"
      }
    },
    {
      "cell_type": "code",
      "source": [
        "#code to print the state with the highest average policy amount"
      ],
      "metadata": {
        "id": "PTMW1Jh3P61O"
      },
      "execution_count": null,
      "outputs": []
    },
    {
      "cell_type": "markdown",
      "source": [
        "## Which state had the lowest average policy amount? [2 marks]"
      ],
      "metadata": {
        "id": "4_XktRAFQYdy"
      }
    },
    {
      "cell_type": "code",
      "source": [
        "#code to print the state that had the lowest average policy amount"
      ],
      "metadata": {
        "id": "7ewBDBeQP_3Q"
      },
      "execution_count": null,
      "outputs": []
    },
    {
      "cell_type": "markdown",
      "source": [
        "# Requirement 4 - Rank the regions from the highest total insurance sales to lowest total insurance sales.\n",
        "\n",
        "Sort the data by sales, from highest to lowest. [2 marks]"
      ],
      "metadata": {
        "id": "oIeDzllIQGGC"
      }
    },
    {
      "cell_type": "code",
      "source": [
        "#code to sort the data from highest to lowest"
      ],
      "metadata": {
        "id": "DWJQHIGNQ4VT"
      },
      "execution_count": null,
      "outputs": []
    },
    {
      "cell_type": "markdown",
      "source": [
        "## Which region had the highest sales? What is the total dollar amount? [5 marks]"
      ],
      "metadata": {
        "id": "NLTX52yXR_eX"
      }
    },
    {
      "cell_type": "code",
      "source": [
        "#code to print region with the highest sales and the total dollar amount"
      ],
      "metadata": {
        "id": "OM0Z3iCqSMOL"
      },
      "execution_count": null,
      "outputs": []
    },
    {
      "cell_type": "markdown",
      "source": [
        "## Which region had the lowest sales?  What is the total dollar amount? [5 marks]"
      ],
      "metadata": {
        "id": "Vd8RVCcgSVnV"
      }
    },
    {
      "cell_type": "code",
      "source": [
        "#code to print region with the lowest sales and the total dollar amount"
      ],
      "metadata": {
        "id": "lhXOk3GYSaxh"
      },
      "execution_count": null,
      "outputs": []
    },
    {
      "cell_type": "markdown",
      "source": [
        "# Requirement 5 - Who is the leading salesperson in each region? [5 marks]"
      ],
      "metadata": {
        "id": "O0Iu7gjiSljF"
      }
    },
    {
      "cell_type": "code",
      "source": [
        "#code to print the leading salesperson in each region"
      ],
      "metadata": {
        "id": "fwMlbBoGSvcM"
      },
      "execution_count": null,
      "outputs": []
    },
    {
      "cell_type": "markdown",
      "source": [
        "# Requirement 6 - What is the total dollar amount sold for each type of insurance? \n",
        "\n",
        "## Show the total dollar amount sold for each type of insurance"
      ],
      "metadata": {
        "id": "xplMNWLXS9Go"
      }
    },
    {
      "cell_type": "code",
      "source": [
        "#Code to print the total dollar amound sold for each type of insrance"
      ],
      "metadata": {
        "id": "lbsMNwZcVAcO"
      },
      "execution_count": null,
      "outputs": []
    },
    {
      "cell_type": "markdown",
      "source": [
        "## Create a graph to show total dollar amount of each type of insurance sold, by region."
      ],
      "metadata": {
        "id": "fq_PCdS4VXgv"
      }
    },
    {
      "cell_type": "code",
      "source": [
        "#code to print bar graph showing total dollar amount of each type of insurance sold by region"
      ],
      "metadata": {
        "id": "XcScnt63VmpG"
      },
      "execution_count": null,
      "outputs": []
    },
    {
      "cell_type": "markdown",
      "source": [
        "## What does this graph show?"
      ],
      "metadata": {
        "id": "I3cmUQS1VzCl"
      }
    },
    {
      "cell_type": "markdown",
      "source": [],
      "metadata": {
        "id": "Whwui8ZNV3-c"
      }
    },
    {
      "cell_type": "markdown",
      "source": [
        "# Requirement 7 - Create a bar chart that shows total sales for each state.\n",
        "\n",
        "## Bar chart for total sales"
      ],
      "metadata": {
        "id": "nrx3k2rBWUhI"
      }
    },
    {
      "cell_type": "code",
      "source": [
        "#Code to generate a bar chart that shows total sales for each state"
      ],
      "metadata": {
        "id": "_1Jdh8v8WgAH"
      },
      "execution_count": null,
      "outputs": []
    },
    {
      "cell_type": "markdown",
      "source": [
        "## What can you surmise from this bar chart?"
      ],
      "metadata": {
        "id": "wT1RXGk1WxlO"
      }
    },
    {
      "cell_type": "markdown",
      "source": [],
      "metadata": {
        "id": "G-euQuAGW1Bc"
      }
    },
    {
      "cell_type": "markdown",
      "source": [],
      "metadata": {
        "id": "KmRuHOnNW4U3"
      }
    }
  ]
}